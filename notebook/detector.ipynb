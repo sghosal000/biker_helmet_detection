{
 "cells": [
  {
   "cell_type": "code",
   "execution_count": 7,
   "metadata": {},
   "outputs": [],
   "source": [
    "import cv2, time, os, tensorflow as tf\n",
    "import numpy as np\n",
    "from tensorflow.python.keras.utils.data_utils import get_file"
   ]
  },
  {
   "cell_type": "code",
   "execution_count": 8,
   "metadata": {},
   "outputs": [],
   "source": [
    "np.random.seed(12)"
   ]
  },
  {
   "cell_type": "code",
   "execution_count": 48,
   "metadata": {},
   "outputs": [],
   "source": [
    "classesFilePath = './coco.names'\n",
    "\n",
    "# modelURL = \"http://download.tensorflow.org/models/object_detection/tf2/20200711/ssd_mobilenet_v2_fpnlite_320x320_coco17_tpu-8.tar.gz\"\n",
    "modelURL = \"http://download.tensorflow.org/models/object_detection/tf2/20200711/efficientdet_d1_coco17_tpu-32.tar.gz\"\n",
    "imagePath = \"../../Data/helmet/images/BikesHelmets56.png\""
   ]
  },
  {
   "cell_type": "code",
   "execution_count": 49,
   "metadata": {},
   "outputs": [
    {
     "name": "stdout",
     "output_type": "stream",
     "text": [
      "92 92\n"
     ]
    }
   ],
   "source": [
    "with open(classesFilePath, \"r\") as f:\n",
    "    classesList = f.read().splitlines()\n",
    "\n",
    "colorList = np.random.uniform(low=0, high=255, size=(len(classesList), 3))\n",
    "print(len(classesList), len(colorList))"
   ]
  },
  {
   "cell_type": "markdown",
   "metadata": {},
   "source": [
    "### Downloading TFOD Model"
   ]
  },
  {
   "cell_type": "code",
   "execution_count": 50,
   "metadata": {},
   "outputs": [
    {
     "name": "stdout",
     "output_type": "stream",
     "text": [
      "fileName:  efficientdet_d1_coco17_tpu-32.tar.gz ModelName:  efficientdet_d1_coco17_tpu-32\n"
     ]
    },
    {
     "data": {
      "text/plain": [
       "'./pretrained_models\\\\models\\\\efficientdet_d1_coco17_tpu-32.tar.gz'"
      ]
     },
     "execution_count": 50,
     "metadata": {},
     "output_type": "execute_result"
    }
   ],
   "source": [
    "fileName = os.path.basename(modelURL)\n",
    "modelName = fileName[:fileName.index('.')]\n",
    "print(\"fileName: \", fileName, \"ModelName: \", modelName)\n",
    "\n",
    "cacheDir = \"./pretrained_models\"\n",
    "# Creating the models directory if not existed before\n",
    "os.makedirs(cacheDir, exist_ok=True)\n",
    "get_file(fileName, origin=modelURL, cache_dir=cacheDir, cache_subdir=\"models\", extract=True)"
   ]
  },
  {
   "cell_type": "code",
   "execution_count": 51,
   "metadata": {},
   "outputs": [
    {
     "name": "stderr",
     "output_type": "stream",
     "text": [
      "WARNING:absl:Importing a function (__inference_EfficientDet-D1_layer_call_and_return_conditional_losses_119744) with ops with unsaved custom gradients. Will likely fail if a gradient is requested.\n",
      "WARNING:absl:Importing a function (__inference_EfficientDet-D1_layer_call_and_return_conditional_losses_132687) with ops with unsaved custom gradients. Will likely fail if a gradient is requested.\n",
      "WARNING:absl:Importing a function (__inference___call___37213) with ops with unsaved custom gradients. Will likely fail if a gradient is requested.\n",
      "WARNING:absl:Importing a function (__inference_EfficientDet-D1_layer_call_and_return_conditional_losses_124597) with ops with unsaved custom gradients. Will likely fail if a gradient is requested.\n",
      "WARNING:absl:Importing a function (__inference_EfficientDet-D1_layer_call_and_return_conditional_losses_137540) with ops with unsaved custom gradients. Will likely fail if a gradient is requested.\n",
      "WARNING:absl:Importing a function (__inference_bifpn_layer_call_and_return_conditional_losses_95809) with ops with unsaved custom gradients. Will likely fail if a gradient is requested.\n",
      "WARNING:absl:Importing a function (__inference_bifpn_layer_call_and_return_conditional_losses_97913) with ops with unsaved custom gradients. Will likely fail if a gradient is requested.\n"
     ]
    }
   ],
   "source": [
    "tf.keras.backend.clear_session()\n",
    "model = tf.saved_model.load(os.path.join(cacheDir, \"models\", modelName, \"saved_model\"))"
   ]
  },
  {
   "cell_type": "code",
   "execution_count": 52,
   "metadata": {},
   "outputs": [],
   "source": [
    "# Loading and converting an image to tensor for test purpose\n",
    "image = cv2.imread(imagePath)\n",
    "imageRGB = cv2.cvtColor(image.copy(), cv2.COLOR_BGR2RGB)\n",
    "imageTensor = tf.convert_to_tensor(imageRGB, dtype=tf.uint8)\n",
    "imageTensor = imageTensor[tf.newaxis, ...]"
   ]
  },
  {
   "cell_type": "code",
   "execution_count": 53,
   "metadata": {},
   "outputs": [],
   "source": [
    "detections = model(imageTensor)"
   ]
  },
  {
   "cell_type": "code",
   "execution_count": 60,
   "metadata": {},
   "outputs": [],
   "source": [
    "def createBoundingBox(image, detections, threshold = 0.5):\n",
    "    bboxes = detections['detection_boxes'][0].numpy()\n",
    "    classIndexes = detections['detection_classes'][0].numpy().astype(np.int32)\n",
    "    classScores = detections['detection_scores'][0].numpy()\n",
    "\n",
    "    imH, imW, imC = image.shape\n",
    "    image = cv2.resize(image, (1000, int(imH * (1000/imW))))\n",
    "    imH, imW = (int(imH * (1000/imW)), 1000)\n",
    "\n",
    "    # gives indexes of bboxes with the criteria\n",
    "    bboxIds = tf.image.non_max_suppression(bboxes, classScores, max_output_size=50, iou_threshold=threshold, score_threshold=threshold)\n",
    "\n",
    "\n",
    "    if len(bboxes):\n",
    "        for i in bboxIds:\n",
    "            bbox = tuple(bboxes[i])\n",
    "            classIndex = classIndexes[i]\n",
    "            classLabel = classesList[classIndex]\n",
    "            classConfidence = round(100*classScores[i])\n",
    "            classColor = colorList[classIndex]\n",
    "\n",
    "            displayTxt = f'{classLabel}: {classConfidence}%'\n",
    "            # displayTxt = '{}: {}%'.format(classLabel, classConfidence)\n",
    "            ymin, xmin, ymax, xmax = bbox   # in relative format\n",
    "            ymin, xmin, ymax, xmax = (int(ymin*imH), int(xmin*imW), int(ymax*imH), int(xmax*imW))\n",
    "\n",
    "            cv2.rectangle(image, (xmin, ymin), (xmax, ymax), color=classColor, thickness=1)\n",
    "            cv2.putText(image, displayTxt, (xmin, ymin - 7), cv2.FONT_HERSHEY_COMPLEX,  1, classColor, 2)\n",
    "\n",
    "    cv2.imwrite(\"./detections/\" + modelName + \".jpg\", image)\n",
    "    cv2.imshow(\"Object detection\", image)\n",
    "    cv2.waitKey(0)\n",
    "    cv2.destroyAllWindows()"
   ]
  },
  {
   "cell_type": "code",
   "execution_count": 61,
   "metadata": {},
   "outputs": [],
   "source": [
    "createBoundingBox(image, detections)"
   ]
  }
 ],
 "metadata": {
  "kernelspec": {
   "display_name": "Python 3",
   "language": "python",
   "name": "python3"
  },
  "language_info": {
   "codemirror_mode": {
    "name": "ipython",
    "version": 3
   },
   "file_extension": ".py",
   "mimetype": "text/x-python",
   "name": "python",
   "nbconvert_exporter": "python",
   "pygments_lexer": "ipython3",
   "version": "3.11.4"
  },
  "orig_nbformat": 4
 },
 "nbformat": 4,
 "nbformat_minor": 2
}
